{
  "nbformat": 4,
  "nbformat_minor": 0,
  "metadata": {
    "colab": {
      "provenance": [],
      "authorship_tag": "ABX9TyMOxpQecTYWIHxu9+zKmzVF",
      "include_colab_link": true
    },
    "kernelspec": {
      "name": "python3",
      "display_name": "Python 3"
    },
    "language_info": {
      "name": "python"
    }
  },
  "cells": [
    {
      "cell_type": "markdown",
      "metadata": {
        "id": "view-in-github",
        "colab_type": "text"
      },
      "source": [
        "<a href=\"https://colab.research.google.com/github/Aashutosh-Basnet/AI-ML-DL-Projects/blob/main/vector_embedding.ipynb\" target=\"_parent\"><img src=\"https://colab.research.google.com/assets/colab-badge.svg\" alt=\"Open In Colab\"/></a>"
      ]
    },
    {
      "cell_type": "code",
      "execution_count": 1,
      "metadata": {
        "id": "7IalgQBXx40t"
      },
      "outputs": [],
      "source": [
        "text = '''The sun rose slowly, casting a golden glow over the quiet village nestled/\n",
        " between mountains and a winding river. Birds chirped, filling the cool morning/\n",
        "  air with a lively melody. Trees swayed gently in the breeze, their leaves rust/\n",
        "  ling softly. People began to wake, their routines set in quiet harmony with nature./\n",
        "   Farmers prepared to tend to their fields, fishermen gathered by the shore, and/\n",
        "    children skipped along the cobblestone streets, laughing. A sense of peace/\n",
        "     enveloped the place, as though time had slowed. It was a day like any other,/\n",
        "      yet held a magic only simple mornings could bring.'''"
      ]
    },
    {
      "cell_type": "code",
      "source": [
        "import re\n",
        "\n",
        "def tokenize(text):\n",
        "    pattern = re.compile(r'[A-Za-z]+[\\w^\\']*|[\\w^\\']*[A-Za-z]+[\\w^\\']*')\n",
        "    return pattern.findall(text.lower())"
      ],
      "metadata": {
        "id": "KNl4wo3K-uzD"
      },
      "execution_count": 2,
      "outputs": []
    },
    {
      "cell_type": "code",
      "source": [
        "tokens = tokenize(text)"
      ],
      "metadata": {
        "id": "ln3BJHjuAPsD"
      },
      "execution_count": null,
      "outputs": []
    },
    {
      "cell_type": "code",
      "source": [
        "tokens"
      ],
      "metadata": {
        "colab": {
          "base_uri": "https://localhost:8080/"
        },
        "id": "DXJ6WFvSugp9",
        "outputId": "955eeeac-8793-4250-c198-e051c9e70288"
      },
      "execution_count": null,
      "outputs": [
        {
          "output_type": "execute_result",
          "data": {
            "text/plain": [
              "['the',\n",
              " 'sun',\n",
              " 'rose',\n",
              " 'slowly',\n",
              " 'casting',\n",
              " 'golden',\n",
              " 'glow',\n",
              " 'over',\n",
              " 'the',\n",
              " 'quiet',\n",
              " 'village',\n",
              " 'nestled',\n",
              " 'between',\n",
              " 'mountains',\n",
              " 'and',\n",
              " 'winding',\n",
              " 'river',\n",
              " 'birds',\n",
              " 'chirped',\n",
              " 'filling',\n",
              " 'the',\n",
              " 'cool',\n",
              " 'morning',\n",
              " 'air',\n",
              " 'with',\n",
              " 'lively',\n",
              " 'melody',\n",
              " 'trees',\n",
              " 'swayed',\n",
              " 'gently',\n",
              " 'in',\n",
              " 'the',\n",
              " 'breeze',\n",
              " 'their',\n",
              " 'leaves',\n",
              " 'rust',\n",
              " 'ling',\n",
              " 'softly',\n",
              " 'people',\n",
              " 'began',\n",
              " 'to',\n",
              " 'wake',\n",
              " 'their',\n",
              " 'routines',\n",
              " 'set',\n",
              " 'in',\n",
              " 'quiet',\n",
              " 'harmony',\n",
              " 'with',\n",
              " 'nature',\n",
              " 'farmers',\n",
              " 'prepared',\n",
              " 'to',\n",
              " 'tend',\n",
              " 'to',\n",
              " 'their',\n",
              " 'fields',\n",
              " 'fishermen',\n",
              " 'gathered',\n",
              " 'by',\n",
              " 'the',\n",
              " 'shore',\n",
              " 'and',\n",
              " 'children',\n",
              " 'skipped',\n",
              " 'along',\n",
              " 'the',\n",
              " 'cobblestone',\n",
              " 'streets',\n",
              " 'laughing',\n",
              " 'sense',\n",
              " 'of',\n",
              " 'peace',\n",
              " 'enveloped',\n",
              " 'the',\n",
              " 'place',\n",
              " 'as',\n",
              " 'though',\n",
              " 'time',\n",
              " 'had',\n",
              " 'slowed',\n",
              " 'it',\n",
              " 'was',\n",
              " 'day',\n",
              " 'like',\n",
              " 'any',\n",
              " 'other',\n",
              " 'yet',\n",
              " 'held',\n",
              " 'magic',\n",
              " 'only',\n",
              " 'simple',\n",
              " 'mornings',\n",
              " 'could',\n",
              " 'bring']"
            ]
          },
          "metadata": {},
          "execution_count": 34
        }
      ]
    },
    {
      "cell_type": "code",
      "source": [
        "def mapping(tokens):\n",
        "  word_to_id = {}\n",
        "  id_to_word = {}\n",
        "\n",
        "  for i, token in enumerate(set(tokens)):\n",
        "    word_to_id[token] = i\n",
        "    id_to_word[i] = token\n",
        "\n",
        "  return word_to_id, id_to_word"
      ],
      "metadata": {
        "id": "4gQJ_ZJOAR9G"
      },
      "execution_count": null,
      "outputs": []
    },
    {
      "cell_type": "code",
      "source": [
        "word_to_id, id_to_word = mapping(tokens)"
      ],
      "metadata": {
        "id": "g30w_o8sBGA-"
      },
      "execution_count": null,
      "outputs": []
    },
    {
      "cell_type": "code",
      "source": [
        "word_to_id"
      ],
      "metadata": {
        "colab": {
          "base_uri": "https://localhost:8080/"
        },
        "id": "Un05QkM2Bjs8",
        "outputId": "4a7e3988-864b-43aa-d68a-8e30e05f702a"
      },
      "execution_count": null,
      "outputs": [
        {
          "output_type": "execute_result",
          "data": {
            "text/plain": [
              "{'quiet': 0,\n",
              " 'routines': 1,\n",
              " 'breeze': 2,\n",
              " 'streets': 3,\n",
              " 'river': 4,\n",
              " 'softly': 5,\n",
              " 'in': 6,\n",
              " 'melody': 7,\n",
              " 'began': 8,\n",
              " 'bring': 9,\n",
              " 'with': 10,\n",
              " 'prepared': 11,\n",
              " 'chirped': 12,\n",
              " 'yet': 13,\n",
              " 'slowed': 14,\n",
              " 'to': 15,\n",
              " 'trees': 16,\n",
              " 'could': 17,\n",
              " 'glow': 18,\n",
              " 'as': 19,\n",
              " 'other': 20,\n",
              " 'by': 21,\n",
              " 'fields': 22,\n",
              " 'it': 23,\n",
              " 'only': 24,\n",
              " 'farmers': 25,\n",
              " 'gathered': 26,\n",
              " 'air': 27,\n",
              " 'rust': 28,\n",
              " 'fishermen': 29,\n",
              " 'day': 30,\n",
              " 'golden': 31,\n",
              " 'winding': 32,\n",
              " 'village': 33,\n",
              " 'magic': 34,\n",
              " 'any': 35,\n",
              " 'leaves': 36,\n",
              " 'casting': 37,\n",
              " 'slowly': 38,\n",
              " 'was': 39,\n",
              " 'cobblestone': 40,\n",
              " 'skipped': 41,\n",
              " 'swayed': 42,\n",
              " 'like': 43,\n",
              " 'set': 44,\n",
              " 'place': 45,\n",
              " 'morning': 46,\n",
              " 'though': 47,\n",
              " 'harmony': 48,\n",
              " 'sun': 49,\n",
              " 'of': 50,\n",
              " 'had': 51,\n",
              " 'mornings': 52,\n",
              " 'shore': 53,\n",
              " 'and': 54,\n",
              " 'laughing': 55,\n",
              " 'lively': 56,\n",
              " 'sense': 57,\n",
              " 'the': 58,\n",
              " 'mountains': 59,\n",
              " 'ling': 60,\n",
              " 'wake': 61,\n",
              " 'held': 62,\n",
              " 'peace': 63,\n",
              " 'birds': 64,\n",
              " 'children': 65,\n",
              " 'people': 66,\n",
              " 'nestled': 67,\n",
              " 'their': 68,\n",
              " 'gently': 69,\n",
              " 'time': 70,\n",
              " 'simple': 71,\n",
              " 'enveloped': 72,\n",
              " 'cool': 73,\n",
              " 'filling': 74,\n",
              " 'over': 75,\n",
              " 'tend': 76,\n",
              " 'nature': 77,\n",
              " 'between': 78,\n",
              " 'along': 79,\n",
              " 'rose': 80}"
            ]
          },
          "metadata": {},
          "execution_count": 6
        }
      ]
    },
    {
      "cell_type": "code",
      "source": [
        "id_to_word"
      ],
      "metadata": {
        "colab": {
          "base_uri": "https://localhost:8080/"
        },
        "id": "get2AVjJBld_",
        "outputId": "3ddb7477-6fa0-40ef-83b6-321504b317e0"
      },
      "execution_count": null,
      "outputs": [
        {
          "output_type": "execute_result",
          "data": {
            "text/plain": [
              "{0: 'quiet',\n",
              " 1: 'routines',\n",
              " 2: 'breeze',\n",
              " 3: 'streets',\n",
              " 4: 'river',\n",
              " 5: 'softly',\n",
              " 6: 'in',\n",
              " 7: 'melody',\n",
              " 8: 'began',\n",
              " 9: 'bring',\n",
              " 10: 'with',\n",
              " 11: 'prepared',\n",
              " 12: 'chirped',\n",
              " 13: 'yet',\n",
              " 14: 'slowed',\n",
              " 15: 'to',\n",
              " 16: 'trees',\n",
              " 17: 'could',\n",
              " 18: 'glow',\n",
              " 19: 'as',\n",
              " 20: 'other',\n",
              " 21: 'by',\n",
              " 22: 'fields',\n",
              " 23: 'it',\n",
              " 24: 'only',\n",
              " 25: 'farmers',\n",
              " 26: 'gathered',\n",
              " 27: 'air',\n",
              " 28: 'rust',\n",
              " 29: 'fishermen',\n",
              " 30: 'day',\n",
              " 31: 'golden',\n",
              " 32: 'winding',\n",
              " 33: 'village',\n",
              " 34: 'magic',\n",
              " 35: 'any',\n",
              " 36: 'leaves',\n",
              " 37: 'casting',\n",
              " 38: 'slowly',\n",
              " 39: 'was',\n",
              " 40: 'cobblestone',\n",
              " 41: 'skipped',\n",
              " 42: 'swayed',\n",
              " 43: 'like',\n",
              " 44: 'set',\n",
              " 45: 'place',\n",
              " 46: 'morning',\n",
              " 47: 'though',\n",
              " 48: 'harmony',\n",
              " 49: 'sun',\n",
              " 50: 'of',\n",
              " 51: 'had',\n",
              " 52: 'mornings',\n",
              " 53: 'shore',\n",
              " 54: 'and',\n",
              " 55: 'laughing',\n",
              " 56: 'lively',\n",
              " 57: 'sense',\n",
              " 58: 'the',\n",
              " 59: 'mountains',\n",
              " 60: 'ling',\n",
              " 61: 'wake',\n",
              " 62: 'held',\n",
              " 63: 'peace',\n",
              " 64: 'birds',\n",
              " 65: 'children',\n",
              " 66: 'people',\n",
              " 67: 'nestled',\n",
              " 68: 'their',\n",
              " 69: 'gently',\n",
              " 70: 'time',\n",
              " 71: 'simple',\n",
              " 72: 'enveloped',\n",
              " 73: 'cool',\n",
              " 74: 'filling',\n",
              " 75: 'over',\n",
              " 76: 'tend',\n",
              " 77: 'nature',\n",
              " 78: 'between',\n",
              " 79: 'along',\n",
              " 80: 'rose'}"
            ]
          },
          "metadata": {},
          "execution_count": 7
        }
      ]
    },
    {
      "cell_type": "code",
      "source": [
        "import numpy as np"
      ],
      "metadata": {
        "id": "Ds3TUjExBrwC"
      },
      "execution_count": null,
      "outputs": []
    },
    {
      "cell_type": "code",
      "source": [
        "np.random.seed(42)\n",
        "\n",
        "def generate_training_data(tokens, word_to_id, window):\n",
        "    X = []\n",
        "    y = []\n",
        "    n_tokens = len(tokens)\n",
        "\n",
        "    for i in range(n_tokens):\n",
        "        idx = concat(\n",
        "            range(max(0, i - window), i),\n",
        "            range(i, min(n_tokens, i + window + 1))\n",
        "        )\n",
        "        for j in idx:\n",
        "            if i == j:\n",
        "                continue\n",
        "            X.append(one_hot_encode(word_to_id[tokens[i]], len(word_to_id)))\n",
        "            y.append(one_hot_encode(word_to_id[tokens[j]], len(word_to_id)))\n",
        "\n",
        "    return np.asarray(X), np.asarray(y)\n",
        "\n"
      ],
      "metadata": {
        "id": "Mtn5t1NUBzbo"
      },
      "execution_count": null,
      "outputs": []
    },
    {
      "cell_type": "code",
      "source": [
        "def concat(*iterables):\n",
        "  for iterable in iterables:\n",
        "    yield from iterable"
      ],
      "metadata": {
        "id": "DrSQyWurF7Nc"
      },
      "execution_count": null,
      "outputs": []
    },
    {
      "cell_type": "code",
      "source": [
        "def one_hot_encode(id, vocab_size):\n",
        "  res = [0] * vocab_size\n",
        "  res[id] = 1\n",
        "  return res"
      ],
      "metadata": {
        "id": "y6lvto1aGB5t"
      },
      "execution_count": null,
      "outputs": []
    },
    {
      "cell_type": "code",
      "source": [
        "X, y = generate_training_data(tokens, word_to_id, 2)"
      ],
      "metadata": {
        "id": "v3f5q_BfGKN9"
      },
      "execution_count": null,
      "outputs": []
    },
    {
      "cell_type": "code",
      "source": [
        "X.shape"
      ],
      "metadata": {
        "colab": {
          "base_uri": "https://localhost:8080/"
        },
        "id": "mbs_dVEuGOn-",
        "outputId": "94afc535-06cb-46c2-9fab-baa338865228"
      },
      "execution_count": null,
      "outputs": [
        {
          "output_type": "execute_result",
          "data": {
            "text/plain": [
              "(374, 81)"
            ]
          },
          "metadata": {},
          "execution_count": 13
        }
      ]
    },
    {
      "cell_type": "code",
      "source": [
        "y.shape"
      ],
      "metadata": {
        "colab": {
          "base_uri": "https://localhost:8080/"
        },
        "id": "TrgBmahyGafY",
        "outputId": "16564a1c-d8e2-4604-f549-eb4847ee4273"
      },
      "execution_count": null,
      "outputs": [
        {
          "output_type": "execute_result",
          "data": {
            "text/plain": [
              "(374, 81)"
            ]
          },
          "metadata": {},
          "execution_count": 14
        }
      ]
    },
    {
      "cell_type": "code",
      "source": [
        "def init_network(vocab_size, n_embedding):\n",
        "  model = {\n",
        "      \"w1\": np.random.randn(vocab_size, n_embedding),\n",
        "      \"w2\": np.random.randn(n_embedding, vocab_size)\n",
        "  }\n",
        "\n",
        "  return model\n"
      ],
      "metadata": {
        "id": "9VszhA8lGcKI"
      },
      "execution_count": null,
      "outputs": []
    },
    {
      "cell_type": "code",
      "source": [
        "model = init_network(len(word_to_id), 10)"
      ],
      "metadata": {
        "id": "9pUxGI7hGkZW"
      },
      "execution_count": null,
      "outputs": []
    },
    {
      "cell_type": "code",
      "source": [
        "def forward(model, X, return_cache=True):\n",
        "    cache = {}\n",
        "\n",
        "    cache[\"a1\"] = X @ model[\"w1\"]\n",
        "    cache[\"a2\"] = cache[\"a1\"] @ model[\"w2\"]\n",
        "    cache[\"z\"] = softmax(cache[\"a2\"])\n",
        "\n",
        "    if not return_cache:\n",
        "        return cache[\"z\"]\n",
        "    return cache"
      ],
      "metadata": {
        "id": "x6O9MJ0TGtFg"
      },
      "execution_count": null,
      "outputs": []
    },
    {
      "cell_type": "code",
      "source": [
        "def softmax(X):\n",
        "  res = []\n",
        "  for x in X:\n",
        "    exp = np.exp(x)\n",
        "    res.append(exp / exp.sum())\n",
        "  return res"
      ],
      "metadata": {
        "id": "ju-kNJZfHBPi"
      },
      "execution_count": null,
      "outputs": []
    },
    {
      "cell_type": "code",
      "source": [
        "(X @ model[\"w1\"]).shape"
      ],
      "metadata": {
        "colab": {
          "base_uri": "https://localhost:8080/"
        },
        "id": "wYyQOzQTHLT3",
        "outputId": "fc2a0ae2-6684-4fb6-ca4c-05af4ef5517b"
      },
      "execution_count": null,
      "outputs": [
        {
          "output_type": "execute_result",
          "data": {
            "text/plain": [
              "(374, 10)"
            ]
          },
          "metadata": {},
          "execution_count": 19
        }
      ]
    },
    {
      "cell_type": "code",
      "source": [
        "(X @ model[\"w1\"] @ model[\"w2\"]).shape"
      ],
      "metadata": {
        "id": "sQrPXzKqHTG4",
        "colab": {
          "base_uri": "https://localhost:8080/"
        },
        "outputId": "0de9cead-b5fc-44be-b58e-6994c0287fe8"
      },
      "execution_count": null,
      "outputs": [
        {
          "output_type": "execute_result",
          "data": {
            "text/plain": [
              "(374, 81)"
            ]
          },
          "metadata": {},
          "execution_count": 20
        }
      ]
    },
    {
      "cell_type": "code",
      "source": [
        "def backward(model, X, y, alpha):\n",
        "  cache = forward(model, X)\n",
        "  da2 = cache[\"z\"] - y\n",
        "  dw2 = cache[\"a1\"].T @ da2\n",
        "\n",
        "  dw2 = cache[\"a1\"].T @ da2\n",
        "  da1 = da2 @ model[\"w2\"].T\n",
        "\n",
        "  dw1 = X.T @ da1\n",
        "\n",
        "  assert(dw2.shape == model[\"w2\"].shape)\n",
        "  assert(dw1.shape == model[\"w1\"].shape)\n",
        "\n",
        "  model[\"w1\"] -= alpha * dw1\n",
        "  model[\"w2\"] -= alpha * dw2\n",
        "\n",
        "  return cross_entropy(cache[\"z\"], y)\n"
      ],
      "metadata": {
        "id": "ZXS--oHSIp_D"
      },
      "execution_count": null,
      "outputs": []
    },
    {
      "cell_type": "code",
      "source": [
        "def cross_entropy(z, y):\n",
        "  return -np.sum(y * np.log(z))"
      ],
      "metadata": {
        "id": "nDMHAlBvJnKC"
      },
      "execution_count": null,
      "outputs": []
    },
    {
      "cell_type": "code",
      "source": [
        "import matplotlib.pyplot as plt\n",
        "%matplotlib inline\n",
        "%config InlineBackend.figure_format = 'svg'\n",
        "plt.style.use('seaborn')\n",
        "\n",
        "n_iter = 50\n",
        "learning_rate = 0.05\n",
        "\n",
        "history = [backward(model, X, y, learning_rate) for _ in range(n_iter)]\n",
        "\n",
        "plt.plot(range(len(history)), history, color= 'skyblue')\n",
        "plt.show()"
      ],
      "metadata": {
        "colab": {
          "base_uri": "https://localhost:8080/",
          "height": 524
        },
        "id": "n167tU13KGpv",
        "outputId": "0c12223c-6cd3-41ca-d7f9-1cf7d661f214"
      },
      "execution_count": null,
      "outputs": [
        {
          "output_type": "stream",
          "name": "stderr",
          "text": [
            "<ipython-input-23-be58d8cf155b>:4: MatplotlibDeprecationWarning: The seaborn styles shipped by Matplotlib are deprecated since 3.6, as they no longer correspond to the styles shipped by seaborn. However, they will remain available as 'seaborn-v0_8-<style>'. Alternatively, directly use the seaborn API instead.\n",
            "  plt.style.use('seaborn')\n"
          ]
        },
        {
          "output_type": "display_data",
          "data": {
            "text/plain": [
              "<Figure size 800x550 with 1 Axes>"
            ],
            "image/svg+xml": "<?xml version=\"1.0\" encoding=\"utf-8\" standalone=\"no\"?>\n<!DOCTYPE svg PUBLIC \"-//W3C//DTD SVG 1.1//EN\"\n  \"http://www.w3.org/Graphics/SVG/1.1/DTD/svg11.dtd\">\n<svg xmlns:xlink=\"http://www.w3.org/1999/xlink\" width=\"490.04375pt\" height=\"335.641875pt\" viewBox=\"0 0 490.04375 335.641875\" xmlns=\"http://www.w3.org/2000/svg\" version=\"1.1\">\n <metadata>\n  <rdf:RDF xmlns:dc=\"http://purl.org/dc/elements/1.1/\" xmlns:cc=\"http://creativecommons.org/ns#\" xmlns:rdf=\"http://www.w3.org/1999/02/22-rdf-syntax-ns#\">\n   <cc:Work>\n    <dc:type rdf:resource=\"http://purl.org/dc/dcmitype/StillImage\"/>\n    <dc:date>2024-10-27T10:44:28.877487</dc:date>\n    <dc:format>image/svg+xml</dc:format>\n    <dc:creator>\n     <cc:Agent>\n      <dc:title>Matplotlib v3.7.1, https://matplotlib.org/</dc:title>\n     </cc:Agent>\n    </dc:creator>\n   </cc:Work>\n  </rdf:RDF>\n </metadata>\n <defs>\n  <style type=\"text/css\">*{stroke-linejoin: round; stroke-linecap: butt}</style>\n </defs>\n <g id=\"figure_1\">\n  <g id=\"patch_1\">\n   <path d=\"M 0 335.641875 \nL 490.04375 335.641875 \nL 490.04375 0 \nL 0 0 \nz\n\" style=\"fill: #ffffff\"/>\n  </g>\n  <g id=\"axes_1\">\n   <g id=\"patch_2\">\n    <path d=\"M 36.44375 312.12 \nL 482.84375 312.12 \nL 482.84375 7.2 \nL 36.44375 7.2 \nz\n\" style=\"fill: #eaeaf2\"/>\n   </g>\n   <g id=\"matplotlib.axis_1\">\n    <g id=\"xtick_1\">\n     <g id=\"line2d_1\">\n      <path d=\"M 56.734659 312.12 \nL 56.734659 7.2 \n\" clip-path=\"url(#p7981d44867)\" style=\"fill: none; stroke: #ffffff; stroke-linecap: round\"/>\n     </g>\n     <g id=\"line2d_2\"/>\n     <g id=\"text_1\">\n      <!-- 0 -->\n      <g style=\"fill: #262626\" transform=\"translate(53.95419 326.366875) scale(0.1 -0.1)\">\n       <defs>\n        <path id=\"LiberationSans-30\" d=\"M 3309 2203 \nQ 3309 1569 3189 1136 \nQ 3069 703 2861 436 \nQ 2653 169 2372 53 \nQ 2091 -63 1772 -63 \nQ 1450 -63 1172 53 \nQ 894 169 689 434 \nQ 484 700 367 1133 \nQ 250 1566 250 2203 \nQ 250 2869 367 3305 \nQ 484 3741 690 4000 \nQ 897 4259 1178 4364 \nQ 1459 4469 1791 4469 \nQ 2106 4469 2382 4364 \nQ 2659 4259 2865 4000 \nQ 3072 3741 3190 3305 \nQ 3309 2869 3309 2203 \nz\nM 2738 2203 \nQ 2738 2728 2675 3076 \nQ 2613 3425 2491 3633 \nQ 2369 3841 2192 3927 \nQ 2016 4013 1791 4013 \nQ 1553 4013 1372 3925 \nQ 1191 3838 1067 3630 \nQ 944 3422 881 3073 \nQ 819 2725 819 2203 \nQ 819 1697 883 1350 \nQ 947 1003 1070 792 \nQ 1194 581 1372 489 \nQ 1550 397 1778 397 \nQ 2000 397 2178 489 \nQ 2356 581 2479 792 \nQ 2603 1003 2670 1350 \nQ 2738 1697 2738 2203 \nz\n\" transform=\"scale(0.015625)\"/>\n       </defs>\n       <use xlink:href=\"#LiberationSans-30\"/>\n      </g>\n     </g>\n    </g>\n    <g id=\"xtick_2\">\n     <g id=\"line2d_3\">\n      <path d=\"M 139.554696 312.12 \nL 139.554696 7.2 \n\" clip-path=\"url(#p7981d44867)\" style=\"fill: none; stroke: #ffffff; stroke-linecap: round\"/>\n     </g>\n     <g id=\"line2d_4\"/>\n     <g id=\"text_2\">\n      <!-- 10 -->\n      <g style=\"fill: #262626\" transform=\"translate(133.993759 326.366875) scale(0.1 -0.1)\">\n       <defs>\n        <path id=\"LiberationSans-31\" d=\"M 488 0 \nL 488 478 \nL 1609 478 \nL 1609 3866 \nL 616 3156 \nL 616 3688 \nL 1656 4403 \nL 2175 4403 \nL 2175 478 \nL 3247 478 \nL 3247 0 \nL 488 0 \nz\n\" transform=\"scale(0.015625)\"/>\n       </defs>\n       <use xlink:href=\"#LiberationSans-31\"/>\n       <use xlink:href=\"#LiberationSans-30\" x=\"55.615234\"/>\n      </g>\n     </g>\n    </g>\n    <g id=\"xtick_3\">\n     <g id=\"line2d_5\">\n      <path d=\"M 222.374733 312.12 \nL 222.374733 7.2 \n\" clip-path=\"url(#p7981d44867)\" style=\"fill: none; stroke: #ffffff; stroke-linecap: round\"/>\n     </g>\n     <g id=\"line2d_6\"/>\n     <g id=\"text_3\">\n      <!-- 20 -->\n      <g style=\"fill: #262626\" transform=\"translate(216.813796 326.366875) scale(0.1 -0.1)\">\n       <defs>\n        <path id=\"LiberationSans-32\" d=\"M 322 0 \nL 322 397 \nQ 481 763 711 1042 \nQ 941 1322 1194 1548 \nQ 1447 1775 1695 1969 \nQ 1944 2163 2144 2356 \nQ 2344 2550 2467 2762 \nQ 2591 2975 2591 3244 \nQ 2591 3431 2534 3573 \nQ 2478 3716 2372 3812 \nQ 2266 3909 2117 3957 \nQ 1969 4006 1788 4006 \nQ 1619 4006 1470 3959 \nQ 1322 3913 1206 3819 \nQ 1091 3725 1017 3586 \nQ 944 3447 922 3263 \nL 347 3316 \nQ 375 3553 478 3762 \nQ 581 3972 762 4130 \nQ 944 4288 1198 4378 \nQ 1453 4469 1788 4469 \nQ 2116 4469 2372 4391 \nQ 2628 4313 2804 4159 \nQ 2981 4006 3075 3781 \nQ 3169 3556 3169 3263 \nQ 3169 3041 3089 2841 \nQ 3009 2641 2876 2459 \nQ 2744 2278 2569 2109 \nQ 2394 1941 2203 1780 \nQ 2013 1619 1819 1461 \nQ 1625 1303 1454 1143 \nQ 1284 984 1150 820 \nQ 1016 656 941 478 \nL 3238 478 \nL 3238 0 \nL 322 0 \nz\n\" transform=\"scale(0.015625)\"/>\n       </defs>\n       <use xlink:href=\"#LiberationSans-32\"/>\n       <use xlink:href=\"#LiberationSans-30\" x=\"55.615234\"/>\n      </g>\n     </g>\n    </g>\n    <g id=\"xtick_4\">\n     <g id=\"line2d_7\">\n      <path d=\"M 305.19477 312.12 \nL 305.19477 7.2 \n\" clip-path=\"url(#p7981d44867)\" style=\"fill: none; stroke: #ffffff; stroke-linecap: round\"/>\n     </g>\n     <g id=\"line2d_8\"/>\n     <g id=\"text_4\">\n      <!-- 30 -->\n      <g style=\"fill: #262626\" transform=\"translate(299.633833 326.366875) scale(0.1 -0.1)\">\n       <defs>\n        <path id=\"LiberationSans-33\" d=\"M 3278 1216 \nQ 3278 913 3179 675 \nQ 3081 438 2892 273 \nQ 2703 109 2423 23 \nQ 2144 -63 1784 -63 \nQ 1375 -63 1095 39 \nQ 816 141 634 308 \nQ 453 475 362 689 \nQ 272 903 244 1131 \nL 825 1184 \nQ 850 1009 917 865 \nQ 984 722 1100 619 \nQ 1216 516 1384 459 \nQ 1553 403 1784 403 \nQ 2209 403 2451 612 \nQ 2694 822 2694 1234 \nQ 2694 1478 2586 1626 \nQ 2478 1775 2317 1858 \nQ 2156 1941 1967 1969 \nQ 1778 1997 1619 1997 \nL 1300 1997 \nL 1300 2484 \nL 1606 2484 \nQ 1766 2484 1937 2517 \nQ 2109 2550 2251 2636 \nQ 2394 2722 2486 2869 \nQ 2578 3016 2578 3244 \nQ 2578 3597 2370 3801 \nQ 2163 4006 1753 4006 \nQ 1381 4006 1151 3815 \nQ 922 3625 884 3278 \nL 319 3322 \nQ 353 3613 478 3828 \nQ 603 4044 795 4186 \nQ 988 4328 1234 4398 \nQ 1481 4469 1759 4469 \nQ 2128 4469 2393 4376 \nQ 2659 4284 2828 4126 \nQ 2997 3969 3076 3756 \nQ 3156 3544 3156 3303 \nQ 3156 3109 3103 2940 \nQ 3050 2772 2937 2637 \nQ 2825 2503 2651 2406 \nQ 2478 2309 2234 2259 \nL 2234 2247 \nQ 2500 2219 2697 2126 \nQ 2894 2034 3022 1896 \nQ 3150 1759 3214 1584 \nQ 3278 1409 3278 1216 \nz\n\" transform=\"scale(0.015625)\"/>\n       </defs>\n       <use xlink:href=\"#LiberationSans-33\"/>\n       <use xlink:href=\"#LiberationSans-30\" x=\"55.615234\"/>\n      </g>\n     </g>\n    </g>\n    <g id=\"xtick_5\">\n     <g id=\"line2d_9\">\n      <path d=\"M 388.014808 312.12 \nL 388.014808 7.2 \n\" clip-path=\"url(#p7981d44867)\" style=\"fill: none; stroke: #ffffff; stroke-linecap: round\"/>\n     </g>\n     <g id=\"line2d_10\"/>\n     <g id=\"text_5\">\n      <!-- 40 -->\n      <g style=\"fill: #262626\" transform=\"translate(382.45387 326.366875) scale(0.1 -0.1)\">\n       <defs>\n        <path id=\"LiberationSans-34\" d=\"M 2753 997 \nL 2753 0 \nL 2222 0 \nL 2222 997 \nL 147 997 \nL 147 1434 \nL 2163 4403 \nL 2753 4403 \nL 2753 1441 \nL 3372 1441 \nL 3372 997 \nL 2753 997 \nz\nM 2222 3769 \nQ 2216 3753 2191 3708 \nQ 2166 3663 2134 3606 \nQ 2103 3550 2070 3492 \nQ 2038 3434 2013 3397 \nL 884 1734 \nQ 869 1709 839 1668 \nQ 809 1628 778 1586 \nQ 747 1544 715 1503 \nQ 684 1463 666 1441 \nL 2222 1441 \nL 2222 3769 \nz\n\" transform=\"scale(0.015625)\"/>\n       </defs>\n       <use xlink:href=\"#LiberationSans-34\"/>\n       <use xlink:href=\"#LiberationSans-30\" x=\"55.615234\"/>\n      </g>\n     </g>\n    </g>\n    <g id=\"xtick_6\">\n     <g id=\"line2d_11\">\n      <path d=\"M 470.834845 312.12 \nL 470.834845 7.2 \n\" clip-path=\"url(#p7981d44867)\" style=\"fill: none; stroke: #ffffff; stroke-linecap: round\"/>\n     </g>\n     <g id=\"line2d_12\"/>\n     <g id=\"text_6\">\n      <!-- 50 -->\n      <g style=\"fill: #262626\" transform=\"translate(465.273907 326.366875) scale(0.1 -0.1)\">\n       <defs>\n        <path id=\"LiberationSans-35\" d=\"M 3291 1434 \nQ 3291 1103 3191 828 \nQ 3091 553 2894 354 \nQ 2697 156 2405 46 \nQ 2113 -63 1728 -63 \nQ 1381 -63 1123 18 \nQ 866 100 687 242 \nQ 509 384 404 575 \nQ 300 766 256 984 \nL 825 1050 \nQ 859 925 921 808 \nQ 984 691 1092 598 \nQ 1200 506 1358 451 \nQ 1516 397 1741 397 \nQ 1959 397 2137 464 \nQ 2316 531 2442 662 \nQ 2569 794 2637 984 \nQ 2706 1175 2706 1422 \nQ 2706 1625 2640 1795 \nQ 2575 1966 2453 2089 \nQ 2331 2213 2154 2281 \nQ 1978 2350 1753 2350 \nQ 1613 2350 1494 2325 \nQ 1375 2300 1273 2256 \nQ 1172 2213 1089 2155 \nQ 1006 2097 934 2034 \nL 384 2034 \nL 531 4403 \nL 3034 4403 \nL 3034 3925 \nL 1044 3925 \nL 959 2528 \nQ 1109 2644 1334 2726 \nQ 1559 2809 1869 2809 \nQ 2197 2809 2459 2709 \nQ 2722 2609 2906 2426 \nQ 3091 2244 3191 1991 \nQ 3291 1738 3291 1434 \nz\n\" transform=\"scale(0.015625)\"/>\n       </defs>\n       <use xlink:href=\"#LiberationSans-35\"/>\n       <use xlink:href=\"#LiberationSans-30\" x=\"55.615234\"/>\n      </g>\n     </g>\n    </g>\n   </g>\n   <g id=\"matplotlib.axis_2\">\n    <g id=\"ytick_1\">\n     <g id=\"line2d_13\">\n      <path d=\"M 36.44375 258.89878 \nL 482.84375 258.89878 \n\" clip-path=\"url(#p7981d44867)\" style=\"fill: none; stroke: #ffffff; stroke-linecap: round\"/>\n     </g>\n     <g id=\"line2d_14\"/>\n     <g id=\"text_7\">\n      <!-- 1000 -->\n      <g style=\"fill: #262626\" transform=\"translate(7.2 262.522217) scale(0.1 -0.1)\">\n       <use xlink:href=\"#LiberationSans-31\"/>\n       <use xlink:href=\"#LiberationSans-30\" x=\"55.615234\"/>\n       <use xlink:href=\"#LiberationSans-30\" x=\"111.230469\"/>\n       <use xlink:href=\"#LiberationSans-30\" x=\"166.845703\"/>\n      </g>\n     </g>\n    </g>\n    <g id=\"ytick_2\">\n     <g id=\"line2d_15\">\n      <path d=\"M 36.44375 199.321197 \nL 482.84375 199.321197 \n\" clip-path=\"url(#p7981d44867)\" style=\"fill: none; stroke: #ffffff; stroke-linecap: round\"/>\n     </g>\n     <g id=\"line2d_16\"/>\n     <g id=\"text_8\">\n      <!-- 1500 -->\n      <g style=\"fill: #262626\" transform=\"translate(7.2 202.944635) scale(0.1 -0.1)\">\n       <use xlink:href=\"#LiberationSans-31\"/>\n       <use xlink:href=\"#LiberationSans-35\" x=\"55.615234\"/>\n       <use xlink:href=\"#LiberationSans-30\" x=\"111.230469\"/>\n       <use xlink:href=\"#LiberationSans-30\" x=\"166.845703\"/>\n      </g>\n     </g>\n    </g>\n    <g id=\"ytick_3\">\n     <g id=\"line2d_17\">\n      <path d=\"M 36.44375 139.743615 \nL 482.84375 139.743615 \n\" clip-path=\"url(#p7981d44867)\" style=\"fill: none; stroke: #ffffff; stroke-linecap: round\"/>\n     </g>\n     <g id=\"line2d_18\"/>\n     <g id=\"text_9\">\n      <!-- 2000 -->\n      <g style=\"fill: #262626\" transform=\"translate(7.2 143.367053) scale(0.1 -0.1)\">\n       <use xlink:href=\"#LiberationSans-32\"/>\n       <use xlink:href=\"#LiberationSans-30\" x=\"55.615234\"/>\n       <use xlink:href=\"#LiberationSans-30\" x=\"111.230469\"/>\n       <use xlink:href=\"#LiberationSans-30\" x=\"166.845703\"/>\n      </g>\n     </g>\n    </g>\n    <g id=\"ytick_4\">\n     <g id=\"line2d_19\">\n      <path d=\"M 36.44375 80.166033 \nL 482.84375 80.166033 \n\" clip-path=\"url(#p7981d44867)\" style=\"fill: none; stroke: #ffffff; stroke-linecap: round\"/>\n     </g>\n     <g id=\"line2d_20\"/>\n     <g id=\"text_10\">\n      <!-- 2500 -->\n      <g style=\"fill: #262626\" transform=\"translate(7.2 83.789471) scale(0.1 -0.1)\">\n       <use xlink:href=\"#LiberationSans-32\"/>\n       <use xlink:href=\"#LiberationSans-35\" x=\"55.615234\"/>\n       <use xlink:href=\"#LiberationSans-30\" x=\"111.230469\"/>\n       <use xlink:href=\"#LiberationSans-30\" x=\"166.845703\"/>\n      </g>\n     </g>\n    </g>\n    <g id=\"ytick_5\">\n     <g id=\"line2d_21\">\n      <path d=\"M 36.44375 20.588451 \nL 482.84375 20.588451 \n\" clip-path=\"url(#p7981d44867)\" style=\"fill: none; stroke: #ffffff; stroke-linecap: round\"/>\n     </g>\n     <g id=\"line2d_22\"/>\n     <g id=\"text_11\">\n      <!-- 3000 -->\n      <g style=\"fill: #262626\" transform=\"translate(7.2 24.211888) scale(0.1 -0.1)\">\n       <use xlink:href=\"#LiberationSans-33\"/>\n       <use xlink:href=\"#LiberationSans-30\" x=\"55.615234\"/>\n       <use xlink:href=\"#LiberationSans-30\" x=\"111.230469\"/>\n       <use xlink:href=\"#LiberationSans-30\" x=\"166.845703\"/>\n      </g>\n     </g>\n    </g>\n   </g>\n   <g id=\"line2d_23\">\n    <path d=\"M 56.734659 21.06 \nL 65.016663 136.018505 \nL 73.298667 176.831716 \nL 81.58067 198.362927 \nL 89.862674 213.260994 \nL 98.144678 224.50904 \nL 106.426681 233.491561 \nL 114.708685 240.994232 \nL 122.990689 247.502182 \nL 131.272692 253.308436 \nL 139.554696 258.570254 \nL 147.8367 263.35537 \nL 156.118704 267.689463 \nL 164.400707 271.589779 \nL 172.682711 275.076136 \nL 180.964715 278.165228 \nL 189.246718 280.875449 \nL 197.528722 283.230662 \nL 205.810726 285.253816 \nL 214.09273 286.885606 \nL 222.374733 288.068735 \nL 230.656737 287.940039 \nL 238.938741 289.821854 \nL 247.220744 289.726576 \nL 255.502748 289.02627 \nL 263.784752 290.510859 \nL 272.066756 290.479922 \nL 280.348759 292.958247 \nL 288.630763 290.63527 \nL 296.912767 290.906592 \nL 305.19477 289.983276 \nL 313.476774 295.275108 \nL 321.758778 295.006657 \nL 330.040782 293.886722 \nL 338.322785 289.190623 \nL 346.604789 294.556328 \nL 354.886793 296.060444 \nL 363.168796 294.552785 \nL 371.4508 294.698538 \nL 379.732804 290.747784 \nL 388.014808 298.111113 \nL 396.296811 298.26 \nL 404.578815 296.848745 \nL 412.860819 293.869683 \nL 421.142822 298.125123 \nL 429.424826 295.113559 \nL 437.70683 297.124005 \nL 445.988833 295.045792 \nL 454.270837 297.620372 \nL 462.552841 292.302578 \n\" clip-path=\"url(#p7981d44867)\" style=\"fill: none; stroke: #87ceeb; stroke-width: 1.75; stroke-linecap: round\"/>\n   </g>\n   <g id=\"patch_3\">\n    <path d=\"M 36.44375 312.12 \nL 36.44375 7.2 \n\" style=\"fill: none\"/>\n   </g>\n   <g id=\"patch_4\">\n    <path d=\"M 482.84375 312.12 \nL 482.84375 7.2 \n\" style=\"fill: none\"/>\n   </g>\n   <g id=\"patch_5\">\n    <path d=\"M 36.44375 312.12 \nL 482.84375 312.12 \n\" style=\"fill: none\"/>\n   </g>\n   <g id=\"patch_6\">\n    <path d=\"M 36.44375 7.2 \nL 482.84375 7.2 \n\" style=\"fill: none\"/>\n   </g>\n  </g>\n </g>\n <defs>\n  <clipPath id=\"p7981d44867\">\n   <rect x=\"36.44375\" y=\"7.2\" width=\"446.4\" height=\"304.92\"/>\n  </clipPath>\n </defs>\n</svg>\n"
          },
          "metadata": {}
        }
      ]
    },
    {
      "cell_type": "code",
      "source": [
        "learning = one_hot_encode(word_to_id[\"place\"], len(word_to_id))\n",
        "result = forward(model, [learning], return_cache=False)[0]\n",
        "\n",
        "for word in (id_to_word[id] for id in np.argsort(result)[::-1]):\n",
        "    print(word)"
      ],
      "metadata": {
        "colab": {
          "base_uri": "https://localhost:8080/"
        },
        "id": "vUC4YPUWKuCJ",
        "outputId": "dc7d13b0-ea51-414f-f427-0f163413689b"
      },
      "execution_count": null,
      "outputs": [
        {
          "output_type": "stream",
          "name": "stdout",
          "text": [
            "the\n",
            "enveloped\n",
            "as\n",
            "though\n",
            "place\n",
            "sense\n",
            "by\n",
            "slowed\n",
            "laughing\n",
            "had\n",
            "it\n",
            "glow\n",
            "fields\n",
            "held\n",
            "peace\n",
            "time\n",
            "cobblestone\n",
            "streets\n",
            "trees\n",
            "of\n",
            "like\n",
            "golden\n",
            "melody\n",
            "river\n",
            "was\n",
            "any\n",
            "yet\n",
            "other\n",
            "fishermen\n",
            "swayed\n",
            "quiet\n",
            "children\n",
            "birds\n",
            "in\n",
            "air\n",
            "breeze\n",
            "gathered\n",
            "day\n",
            "along\n",
            "could\n",
            "simple\n",
            "gently\n",
            "rose\n",
            "over\n",
            "casting\n",
            "only\n",
            "tend\n",
            "morning\n",
            "slowly\n",
            "routines\n",
            "skipped\n",
            "chirped\n",
            "people\n",
            "shore\n",
            "sun\n",
            "rust\n",
            "nature\n",
            "winding\n",
            "magic\n",
            "harmony\n",
            "cool\n",
            "lively\n",
            "mountains\n",
            "filling\n",
            "between\n",
            "set\n",
            "farmers\n",
            "bring\n",
            "with\n",
            "began\n",
            "and\n",
            "wake\n",
            "mornings\n",
            "nestled\n",
            "ling\n",
            "their\n",
            "prepared\n",
            "leaves\n",
            "village\n",
            "softly\n",
            "to\n"
          ]
        }
      ]
    },
    {
      "cell_type": "code",
      "source": [
        "model[\"w1\"]"
      ],
      "metadata": {
        "colab": {
          "base_uri": "https://localhost:8080/"
        },
        "id": "2zD5x_9sLOqd",
        "outputId": "9fab26c8-d9f0-4584-ea40-ce0cdc3363c8"
      },
      "execution_count": null,
      "outputs": [
        {
          "output_type": "execute_result",
          "data": {
            "text/plain": [
              "array([[ 1.82675391e+00, -1.88717732e+00, -4.95960354e-01,\n",
              "        -7.21686404e-01, -4.36247885e-01,  2.90164542e-02,\n",
              "         1.74058063e+00, -1.57058956e-01,  8.33370153e-01,\n",
              "         3.42999008e-01],\n",
              "       [ 8.82201847e-01, -3.91952889e-01,  3.57609947e-01,\n",
              "        -1.89476571e+00, -1.44808855e+00,  1.74131382e+00,\n",
              "         8.85073436e-01,  2.57538771e-01,  7.62569070e-01,\n",
              "         2.48730469e-01],\n",
              "       [ 1.67663585e+00,  5.23413244e-03,  4.16478892e-02,\n",
              "        -1.31350448e+00, -6.41912515e-01,  1.65713183e+00,\n",
              "        -1.09917682e+00,  6.95693725e-02,  7.43288311e-01,\n",
              "         7.45729481e-01],\n",
              "       [-5.60204918e-02,  2.15699078e+00, -4.42051176e-01,\n",
              "        -1.56513138e+00, -6.62035007e-01, -6.52976375e-01,\n",
              "        -1.69405129e+00, -1.30592012e+00, -7.83303782e-01,\n",
              "        -3.56832841e-01],\n",
              "       [ 9.14988704e-01, -7.86602136e-01, -7.35455189e-01,\n",
              "        -8.17964907e-01,  6.01623092e-01, -8.43958283e-01,\n",
              "        -1.34908469e+00,  1.08313449e+00,  1.42854757e-01,\n",
              "        -2.11402643e+00],\n",
              "       [-2.51135045e-01,  4.58499800e-01,  1.50046096e+00,\n",
              "        -1.07110570e+00,  3.35820123e-01,  2.21060334e-01,\n",
              "         1.38033548e-01, -4.33148071e-02, -2.46602548e+00,\n",
              "         8.28060275e-01],\n",
              "       [-8.82018245e-01,  3.52376480e-01, -1.08845845e+00,\n",
              "        -2.62126958e+00, -7.04066965e-01,  4.99923552e-01,\n",
              "         5.97520813e-01,  1.11268970e+00,  1.33717216e+00,\n",
              "        -5.54175197e-01],\n",
              "       [ 8.16833078e-01,  8.51504444e-01,  4.32961878e-01,\n",
              "         8.92997036e-01, -2.93714798e+00, -6.19043826e-02,\n",
              "         1.75754913e+00,  3.59714802e-01, -4.66666670e-01,\n",
              "        -9.96153337e-01],\n",
              "       [-8.81645216e-01, -9.99390852e-01,  1.54610625e+00,\n",
              "         1.15612439e-01,  1.40681080e-01,  1.39239682e+00,\n",
              "         1.32996796e+00,  8.72621719e-01, -1.24440566e+00,\n",
              "         2.84777749e-01],\n",
              "       [-9.77060829e-01,  3.20182984e-01,  7.82160305e-01,\n",
              "        -5.30173093e-01, -1.75818447e+00, -1.59688936e+00,\n",
              "        -4.67483153e-01,  4.13419041e-01,  1.70015952e-01,\n",
              "        -1.05172817e+00],\n",
              "       [-1.89151965e+00,  5.37262686e-01,  4.85021961e-03,\n",
              "         1.77801143e-01, -7.26745212e-03, -6.82833856e-01,\n",
              "         3.03106854e+00,  1.19957962e+00,  5.07424719e-02,\n",
              "        -1.05329291e+00],\n",
              "       [-6.63706159e-01, -6.40368686e-01,  1.34122541e+00,\n",
              "         2.14268883e+00, -1.29541612e+00,  1.58208555e-01,\n",
              "         1.19418470e+00,  9.81531771e-01, -1.49354315e-01,\n",
              "         1.65222695e+00],\n",
              "       [ 9.44648439e-01,  5.33902746e-01, -6.01673316e-01,\n",
              "        -1.62882787e+00, -6.96121483e-01,  8.35844900e-01,\n",
              "        -2.42279378e+00,  1.06988101e+00,  5.80105177e-02,\n",
              "        -6.96018137e-01],\n",
              "       [-2.86308925e+00, -1.19565801e+00,  2.50749928e-01,\n",
              "         4.20674164e-01, -2.89245171e-01, -3.17130989e-01,\n",
              "         3.02811575e-01, -1.19201456e+00,  3.85038498e-01,\n",
              "        -1.15781954e-01],\n",
              "       [-9.09548448e-01,  1.12373535e-01, -4.11203672e-01,\n",
              "         8.61655165e-03,  1.93602244e+00,  2.36867629e-01,\n",
              "        -9.02968153e-01, -2.03542343e+00,  1.22541768e+00,\n",
              "        -4.13107078e-01],\n",
              "       [-9.03398506e-01,  5.43277854e-01,  1.22160023e+00,\n",
              "        -5.65385729e-02, -3.32739958e-01,  4.95081037e-01,\n",
              "         1.73244677e+00, -5.79605682e-02, -4.37042489e-01,\n",
              "         1.32453521e+00],\n",
              "       [-6.74322925e-03,  8.40641380e-01,  1.15583895e+00,\n",
              "        -2.48753621e-01, -3.49369700e-01,  5.01195506e-01,\n",
              "         1.18399144e+00,  1.47376472e+00,  3.35260428e-01,\n",
              "        -2.15858583e+00],\n",
              "       [-5.03384922e-01, -1.04249629e+00,  9.92227172e-01,\n",
              "         8.17115533e-01, -5.40614420e-01, -1.42953823e+00,\n",
              "        -1.65213938e+00,  1.17065867e+00, -2.36846225e-01,\n",
              "         7.49254803e-01],\n",
              "       [ 1.04771898e+00,  5.50213797e-02, -1.73390984e+00,\n",
              "         1.40863832e-01,  9.16346531e-01,  2.88594541e-02,\n",
              "         1.20935494e+00, -5.87919721e-01,  1.18440427e+00,\n",
              "        -9.47978941e-01],\n",
              "       [ 1.41945176e-01,  6.24477204e-02, -9.68936980e-01,\n",
              "         5.36302542e-01,  2.75264498e-01, -4.72162073e-02,\n",
              "        -2.42738405e-01, -2.12412988e+00, -5.82901612e-02,\n",
              "         7.34933243e-01],\n",
              "       [-2.10173726e+00,  2.70662392e-01,  4.95174101e-01,\n",
              "         1.26918486e+00,  4.04473663e-01, -1.25952072e+00,\n",
              "         5.66469960e-01, -1.11271143e+00,  5.56327796e-01,\n",
              "         2.50036587e+00],\n",
              "       [ 1.85654159e+00, -6.45883745e-02,  2.48262215e-01,\n",
              "         3.96482709e-01, -1.60880828e+00,  3.47524882e-01,\n",
              "        -1.09164264e+00, -1.71755809e+00, -4.69676662e-01,\n",
              "         6.82289866e-01],\n",
              "       [ 2.67583279e+00, -1.24744760e+00,  1.47193942e+00,\n",
              "        -7.19226039e-01, -1.46577102e+00,  1.22900839e+00,\n",
              "         2.84085382e-01, -1.14058335e+00, -4.13687479e-01,\n",
              "         1.20248562e+00],\n",
              "       [-1.49986637e+00, -2.82124351e-01,  2.49208350e-01,\n",
              "         8.68561367e-01,  2.78401837e+00,  8.54150652e-01,\n",
              "        -1.88012468e+00,  1.37829812e-01, -1.17841343e-01,\n",
              "         3.65581129e-01],\n",
              "       [-1.72161595e+00, -1.02112418e+00,  7.30556294e-01,\n",
              "         1.46410045e+00, -1.09485997e+00, -1.40577779e+00,\n",
              "        -1.16379848e+00, -5.79225665e-01,  1.00962202e+00,\n",
              "        -6.64939104e-02],\n",
              "       [-4.02380702e-01, -2.04528246e-01,  1.76894445e+00,\n",
              "         2.01015990e-01, -1.93269120e+00, -1.23246866e+00,\n",
              "         1.26301425e+00,  1.57805567e-01, -2.63441483e-01,\n",
              "         1.13795739e+00],\n",
              "       [-1.40657362e+00, -4.92476804e-01, -2.12420942e+00,\n",
              "        -8.51127555e-01, -1.23695055e+00,  2.31814903e-01,\n",
              "         1.44928397e+00, -1.35734352e+00, -1.39609883e+00,\n",
              "         1.31123553e-01],\n",
              "       [ 2.03648728e-01, -1.61511840e+00, -8.03666922e-01,\n",
              "         8.62646352e-01, -4.71232677e-01, -6.66503375e-01,\n",
              "         2.10448668e+00,  1.14076873e-01, -8.80695711e-01,\n",
              "        -4.96571948e-01],\n",
              "       [ 7.88858469e-01,  6.26097388e-01,  2.02316575e+00,\n",
              "        -4.49944779e-01,  2.19266249e+00,  1.82931058e-02,\n",
              "        -4.27905565e-01,  2.14865616e+00, -4.94605125e-01,\n",
              "         5.13142958e-01],\n",
              "       [ 5.26170779e-01,  1.47792862e-01, -1.12296953e+00,\n",
              "         3.59186690e-01, -4.15218181e-01,  7.52035399e-01,\n",
              "         1.70760421e+00, -1.57230112e-01,  3.32634208e-01,\n",
              "         2.58965149e+00],\n",
              "       [-1.14768021e+00, -3.61083126e-01,  1.06562658e-01,\n",
              "         1.33377135e+00,  1.97045989e+00, -2.01619238e-01,\n",
              "         1.27200751e+00, -1.60167226e+00,  1.56312341e-01,\n",
              "        -1.57219943e-01],\n",
              "       [ 6.85290859e-01,  1.44037094e+00,  3.04291996e-01,\n",
              "         1.10351724e+00,  1.39569474e+00,  1.76212790e-01,\n",
              "         2.01362617e+00, -5.83538189e-01,  1.77409131e+00,\n",
              "        -3.77219402e-01],\n",
              "       [ 4.11587092e-01, -3.68016569e-01, -1.61019590e+00,\n",
              "         1.48145137e+00, -7.73661297e-01,  1.15727017e+00,\n",
              "        -1.57408629e+00,  1.08807832e+00, -9.39563350e-02,\n",
              "        -1.32511662e+00],\n",
              "       [ 1.98543228e-01, -1.66776135e+00, -2.41595136e-01,\n",
              "        -2.94485737e-01, -6.92622756e-01,  1.11668770e+00,\n",
              "        -1.81607054e-01, -9.34751074e-01,  2.05287301e+00,\n",
              "        -3.06990895e-01],\n",
              "       [-2.30214425e+00,  3.80250458e-01,  7.68488164e-01,\n",
              "         2.30501321e-01, -6.00944631e-01, -2.13319008e-01,\n",
              "        -1.68981995e+00, -1.48634191e-01, -7.31034457e-02,\n",
              "         1.25775334e+00],\n",
              "       [-2.26396655e+00,  7.18998488e-01,  7.10340521e-01,\n",
              "         4.39639146e-01,  1.39652335e+00, -9.89508203e-01,\n",
              "        -1.47559789e-01, -3.94485593e-01, -1.40296056e+00,\n",
              "         2.17785347e-01],\n",
              "       [ 1.00595346e+00,  1.79193037e+00,  3.87557747e-01,\n",
              "        -9.61208609e-01,  2.19430448e-01,  4.41584569e-01,\n",
              "         3.49801655e-02,  1.21030055e+00, -1.70801605e+00,\n",
              "         1.20865352e+00],\n",
              "       [ 4.60073926e-01,  7.46017468e-01, -1.12750672e-01,\n",
              "         1.51073823e+00,  2.46700158e+00,  5.94836624e-01,\n",
              "         2.61316644e-01,  7.40531903e-01,  1.86665150e+00,\n",
              "        -6.19889915e-02],\n",
              "       [ 2.43163237e-01,  5.86784158e-02, -1.67014910e+00,\n",
              "         7.36890765e-01,  1.45238026e+00, -8.93758371e-01,\n",
              "         2.79541357e-01,  1.30978701e+00,  2.42969647e+00,\n",
              "        -7.42012515e-01],\n",
              "       [-7.37743527e-01,  1.34172374e+00, -3.78719815e-01,\n",
              "         1.11739637e+00,  2.82548884e+00, -2.18137478e-01,\n",
              "        -5.84939564e-01, -4.97231674e-01, -1.06205022e+00,\n",
              "        -1.73565047e-01],\n",
              "       [ 4.75939102e-01,  3.42530991e-01, -1.81721116e+00,\n",
              "         7.00525503e-02, -1.57512820e-01, -2.06664139e-01,\n",
              "        -1.69435427e+00,  9.49939516e-02, -1.69986142e+00,\n",
              "         1.00631854e+00],\n",
              "       [ 1.66814974e+00, -1.53373306e+00, -1.90648692e+00,\n",
              "         7.44393143e-01,  7.37529655e-01, -4.25564465e-01,\n",
              "        -2.17312363e-01, -7.78710140e-02, -1.73377219e-01,\n",
              "         6.73053864e-01],\n",
              "       [ 2.17948186e+00,  2.87460600e+00, -1.12253737e+00,\n",
              "        -2.72373292e-01, -2.57286591e-01,  1.31525414e+00,\n",
              "         4.51714886e-01,  5.69998269e-01,  5.69612720e-01,\n",
              "        -1.51267244e+00],\n",
              "       [-2.01564222e+00, -2.56953358e+00, -1.25336706e-01,\n",
              "         1.09189083e+00,  1.77306454e+00,  5.56765489e-01,\n",
              "         8.22297848e-01, -1.23057236e+00, -1.49931432e+00,\n",
              "         3.17817633e-02],\n",
              "       [ 7.17472495e-01,  2.17316701e-01, -4.40772627e-01,\n",
              "        -1.38393264e+00, -1.76714214e-01,  2.06758185e+00,\n",
              "         1.60273788e+00, -1.31374890e-01,  1.61235167e+00,\n",
              "        -1.26284431e-01],\n",
              "       [-1.14940967e+00,  1.62427621e+00, -2.04892880e+00,\n",
              "         5.15611998e-01, -3.76823784e-01,  4.76422010e-01,\n",
              "        -2.48148996e-01, -1.66932857e+00, -2.21095692e-01,\n",
              "        -1.33999579e-01],\n",
              "       [ 7.54580369e-01, -5.71145914e-01, -1.46994370e+00,\n",
              "        -1.35310975e+00,  1.56859783e-01, -1.62862325e+00,\n",
              "         2.26302098e-01,  2.76198672e-01, -9.98279800e-01,\n",
              "         8.36530045e-01],\n",
              "       [-8.20805383e-01, -8.90641935e-01, -1.62702834e+00,\n",
              "         9.56673430e-01,  1.57759115e+00, -1.38516875e+00,\n",
              "        -6.76244520e-01, -1.27336112e+00,  2.50845163e+00,\n",
              "         1.79458077e+00],\n",
              "       [ 5.17932660e-01, -5.17755771e-01, -6.29684847e-01,\n",
              "         3.08502182e-01, -2.62596442e+00, -3.16112367e-01,\n",
              "         1.46257056e+00,  3.72178869e-01,  9.50251966e-01,\n",
              "         2.61580665e-01],\n",
              "       [ 9.31106299e-01,  9.64735808e-01, -9.23043435e-01,\n",
              "        -5.94531683e-01,  1.08360379e+00,  1.81927450e-01,\n",
              "        -1.49031035e+00,  1.03139170e-01,  1.86396862e+00,\n",
              "         6.24361906e-01],\n",
              "       [-8.27580878e-01,  1.77280604e+00, -1.06983503e+00,\n",
              "         9.70266912e-01, -1.17103058e+00, -8.41634306e-01,\n",
              "        -6.60999996e-01, -7.86423731e-01, -1.16535024e+00,\n",
              "        -1.47679689e+00],\n",
              "       [ 5.68556667e-01,  1.06816383e+00,  1.97820052e-02,\n",
              "        -7.81105389e-01,  1.78776199e+00,  9.50204333e-01,\n",
              "        -3.31660985e-01, -2.04419129e+00, -3.85728580e-01,\n",
              "        -1.12760419e-02],\n",
              "       [-1.53060189e+00,  8.37065183e-01,  6.92075706e-01,\n",
              "         5.16267568e-01, -8.71709794e-01, -1.00277543e+00,\n",
              "        -1.73616595e+00,  1.46452673e+00,  1.17002206e+00,\n",
              "         9.57206258e-02],\n",
              "       [ 9.17214973e-02, -1.88141956e+00, -1.95118609e+00,\n",
              "        -6.03396435e-01,  6.66459291e-01,  5.28910871e-01,\n",
              "         9.07464039e-02,  1.43316845e-01, -5.71138703e-01,\n",
              "         1.43681288e-01],\n",
              "       [ 1.78662130e+00, -7.31196806e-01, -1.11043680e-02,\n",
              "         1.15493581e+00, -5.63746884e-01,  5.31616104e-01,\n",
              "        -1.60259973e+00, -1.37673416e+00,  3.95180671e-01,\n",
              "        -1.07311010e+00],\n",
              "       [-9.83957398e-02,  1.88079029e+00, -1.97964035e-01,\n",
              "         1.04872424e-01, -1.03519377e+00, -2.08279904e+00,\n",
              "        -1.12014702e+00, -9.72093174e-01, -4.18371448e-01,\n",
              "         8.83285312e-01],\n",
              "       [ 1.20180906e+00,  2.47561147e+00,  1.17914082e-01,\n",
              "        -9.10288847e-01,  1.25319284e+00, -1.83938822e+00,\n",
              "         1.17504113e+00,  1.35991863e-01, -1.77665462e+00,\n",
              "         1.39618787e-01],\n",
              "       [-6.67746128e-01,  1.60068404e+00, -7.84127868e-01,\n",
              "         5.56924398e-01,  9.89624933e-02, -2.39665955e+00,\n",
              "        -1.25049803e+00,  1.04604068e-01, -2.04747168e+00,\n",
              "         2.82367314e-01],\n",
              "       [ 9.57962753e-01,  7.86570260e-01, -1.05269043e+00,\n",
              "         9.28684330e-01, -4.05289829e-01, -1.25145164e-01,\n",
              "         6.03437238e-01,  1.34610214e+00,  1.04058733e+00,\n",
              "         3.94812684e-01],\n",
              "       [ 9.16706836e-01, -2.70623045e+00,  5.67676576e-01,\n",
              "         3.87135281e-01,  1.21099228e+00, -2.21889653e-02,\n",
              "        -1.38122177e+00, -4.57419980e-01,  6.02011858e-01,\n",
              "        -2.16414847e-01],\n",
              "       [ 6.85118398e-01, -9.90961138e-01,  1.35724679e+00,\n",
              "         8.10564063e-01,  1.15018785e+00,  1.26832507e+00,\n",
              "        -5.01835205e-01, -6.62931462e-02, -2.22619820e+00,\n",
              "         1.78067889e+00],\n",
              "       [ 5.49442091e-01, -7.13828120e-01,  9.94176290e-01,\n",
              "        -2.22092757e+00,  1.24914258e+00,  2.54745615e-01,\n",
              "         6.09361117e-01,  9.78639017e-01, -1.12635549e-01,\n",
              "         7.03692607e-01],\n",
              "       [-2.18777029e+00,  1.07278302e-01,  2.32291847e+00,\n",
              "        -4.05895425e-01,  9.23117445e-01, -6.51661238e-01,\n",
              "        -7.97735012e-01, -8.61137602e-01, -2.05015151e-01,\n",
              "         2.32616027e-01],\n",
              "       [-1.30108323e+00,  1.15148264e+00, -1.68615359e+00,\n",
              "        -6.59881633e-01, -1.22680105e+00, -1.80416230e+00,\n",
              "         1.83543402e-01, -1.22098091e+00, -4.02480452e-01,\n",
              "        -8.04950360e-01],\n",
              "       [ 1.44591156e+00,  1.05038883e+00,  4.13286354e-01,\n",
              "        -1.51461176e+00,  6.35730402e-01, -2.56172911e-01,\n",
              "        -3.01236358e+00,  4.87539158e-01,  2.55318840e-01,\n",
              "        -1.37709401e+00],\n",
              "       [ 2.80139423e+00,  1.18247330e-01,  5.15541045e-02,\n",
              "         8.85709927e-01,  1.57577733e+00,  1.56648195e-01,\n",
              "        -1.20340467e+00,  6.54653152e-01, -5.70485076e-01,\n",
              "         9.48209158e-02],\n",
              "       [-9.23327840e-01, -8.70065208e-01,  6.86418304e-01,\n",
              "        -1.45142220e+00, -6.80205471e-02, -4.02695548e-02,\n",
              "         4.64248558e-01,  1.77833945e+00, -1.87562155e+00,\n",
              "         6.99385502e-01],\n",
              "       [ 9.77476884e-01, -2.43208455e+00, -2.69935887e-01,\n",
              "         8.21192325e-01, -1.60814194e+00,  1.49770842e-01,\n",
              "        -1.35654720e-01,  5.60085259e-01,  2.12939070e+00,\n",
              "        -7.19134407e-01],\n",
              "       [-7.44701577e-02, -4.50276544e-01, -1.30007295e-01,\n",
              "        -1.51490090e+00, -9.13479186e-01,  1.70029911e+00,\n",
              "        -4.57072511e-01,  5.17869939e-01, -6.09252888e-01,\n",
              "         1.47254545e+00],\n",
              "       [ 7.53085242e-01,  1.17515069e+00, -7.90913641e-01,\n",
              "         9.77366464e-02, -2.10014744e+00,  5.84033461e-01,\n",
              "         6.72307745e-01, -7.32845306e-01,  4.19188105e-01,\n",
              "        -5.98652636e-01],\n",
              "       [-1.38234356e+00,  1.08951836e+00, -1.38653928e+00,\n",
              "        -2.57167477e-01,  1.04289869e+00,  1.33266826e+00,\n",
              "        -1.21604998e+00, -8.95839041e-01, -5.08689547e-01,\n",
              "         1.51066954e+00],\n",
              "       [-1.29163856e+00,  6.93760957e-02,  1.79488908e+00,\n",
              "        -3.41170996e-01, -9.37838946e-01, -7.65230176e-01,\n",
              "        -7.28979928e-01, -1.81742260e-01,  8.64837832e-01,\n",
              "        -9.82969515e-01],\n",
              "       [-4.37664155e-01, -7.27372783e-01, -1.70982734e+00,\n",
              "         1.38823765e+00, -7.87329983e-01, -1.70062525e+00,\n",
              "        -5.14078973e-01, -1.01345237e+00,  9.41188511e-02,\n",
              "        -2.70782384e-01],\n",
              "       [-1.26862460e-01, -5.52264681e-01, -1.29764579e+00,\n",
              "        -1.33841483e+00,  1.82556406e-03, -1.69093707e+00,\n",
              "        -1.82726714e-01,  1.20358955e+00,  1.10833883e+00,\n",
              "         1.76501996e+00],\n",
              "       [ 8.22059403e-01, -3.70019620e-01, -1.55125724e+00,\n",
              "        -6.43185975e-01, -9.32496173e-01, -1.15465042e+00,\n",
              "        -1.70396074e-01,  7.20778529e-01, -5.06619133e-01,\n",
              "        -1.49314399e+00],\n",
              "       [ 2.13447190e-01, -6.97417928e-02, -1.80451156e+00,\n",
              "         5.94582605e-01, -2.50421739e-01,  2.73427311e+00,\n",
              "         5.59897680e-01, -7.55180215e-01,  9.91630792e-01,\n",
              "        -1.84695494e-01],\n",
              "       [ 5.84844149e-01, -4.46934327e-01,  2.49149130e+00,\n",
              "        -2.36364189e-01,  7.33162786e-01, -1.19339412e+00,\n",
              "         4.99982188e-01,  1.01540140e+00,  3.93435018e-01,\n",
              "         1.16929292e+00],\n",
              "       [ 7.99982583e-02, -8.47472776e-01,  1.18163550e+00,\n",
              "         1.21141930e-01,  4.56147460e-01, -2.14212793e+00,\n",
              "         1.88895232e+00, -6.07101385e-01,  3.38671247e-01,\n",
              "         1.31965065e+00],\n",
              "       [ 1.09301653e+00, -2.06238302e+00,  4.12523680e-01,\n",
              "         1.35408263e+00,  3.87377653e-01,  1.23714262e+00,\n",
              "        -2.57407242e-01,  1.04045352e+00,  1.19430327e+00,\n",
              "        -7.82761556e-02],\n",
              "       [ 1.81377784e+00,  5.32301704e-01, -1.73799346e-01,\n",
              "        -3.62369774e-01,  8.51485932e-02,  2.73675172e-01,\n",
              "        -9.99342974e-01, -7.01822132e-01,  1.48275761e-01,\n",
              "        -5.72162224e-01],\n",
              "       [ 4.48359189e-01, -2.30070213e-01, -5.87324777e-01,\n",
              "        -9.80834028e-03, -2.10666190e-01, -9.15116616e-01,\n",
              "        -7.63002160e-01,  1.08033875e-01,  3.07705235e+00,\n",
              "        -4.87713215e-01]])"
            ]
          },
          "metadata": {},
          "execution_count": 29
        }
      ]
    },
    {
      "cell_type": "code",
      "source": [
        "def get_embedding(model, word):\n",
        "    try:\n",
        "        idx = word_to_id[word]\n",
        "    except KeyError:\n",
        "        print(\"`word` not in corpus\")\n",
        "    one_hot = one_hot_encode(idx, len(word_to_id))\n",
        "    return forward(model, one_hot)[\"a1\"]"
      ],
      "metadata": {
        "id": "PwUMJtlWLR3m"
      },
      "execution_count": null,
      "outputs": []
    },
    {
      "cell_type": "code",
      "source": [
        "get_embedding(model, \"cobblestone\")"
      ],
      "metadata": {
        "id": "FyKVMfZsLVnv",
        "outputId": "18694cc2-1763-40a2-8ce1-6b87f3383ab6",
        "colab": {
          "base_uri": "https://localhost:8080/"
        }
      },
      "execution_count": null,
      "outputs": [
        {
          "output_type": "execute_result",
          "data": {
            "text/plain": [
              "array([ 0.4759391 ,  0.34253099, -1.81721116,  0.07005255, -0.15751282,\n",
              "       -0.20666414, -1.69435427,  0.09499395, -1.69986142,  1.00631854])"
            ]
          },
          "metadata": {},
          "execution_count": 31
        }
      ]
    },
    {
      "cell_type": "code",
      "source": [],
      "metadata": {
        "id": "DKy-44gCLXa2"
      },
      "execution_count": null,
      "outputs": []
    }
  ]
}